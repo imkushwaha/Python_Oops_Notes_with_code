{
  "nbformat": 4,
  "nbformat_minor": 0,
  "metadata": {
    "colab": {
      "name": "Day1.ipynb",
      "provenance": [],
      "collapsed_sections": []
    },
    "kernelspec": {
      "name": "python3",
      "display_name": "Python 3"
    },
    "language_info": {
      "name": "python"
    }
  },
  "cells": [
    {
      "cell_type": "code",
      "source": [
        "import os\n",
        "PATH = \"/content/drive/MyDrive/Python/Oops/Campus_X\"\n",
        "os.chdir(PATH)\n",
        "os.getcwd()"
      ],
      "metadata": {
        "colab": {
          "base_uri": "https://localhost:8080/",
          "height": 35
        },
        "id": "KxH49fs1U7kN",
        "outputId": "3b7db6cf-00bd-42ba-adef-dc3de013cf78"
      },
      "execution_count": 4,
      "outputs": [
        {
          "output_type": "execute_result",
          "data": {
            "text/plain": [
              "'/content/drive/MyDrive/Python/Oops/Campus_X'"
            ],
            "application/vnd.google.colaboratory.intrinsic+json": {
              "type": "string"
            }
          },
          "metadata": {},
          "execution_count": 4
        }
      ]
    },
    {
      "cell_type": "markdown",
      "source": [
        "# Let's make a class\n",
        "\n",
        "## ATM Machine Software:\n",
        "\n",
        "- Data\n",
        " - PIN\n",
        " - BALANCE\n",
        "- Function\n",
        " - Check_balance\n",
        " -  \n"
      ],
      "metadata": {
        "id": "bYT5ESBZVriq"
      }
    },
    {
      "cell_type": "markdown",
      "source": [
        "## Function Vs Method\n",
        "\n",
        "- Method is a special function written inside a class\n",
        "- Function is a simple general function not written inside a class\n",
        "- How we call function and method is also different\n",
        "- len() is a function\n",
        "- list.append(1) is a method\n",
        "- Function is for all\n",
        "- Method is only for object of that class"
      ],
      "metadata": {
        "id": "sKU35BhbWMFn"
      }
    },
    {
      "cell_type": "code",
      "source": [
        "class Atm:\n",
        "  \n",
        "  #constructor: is a special or magic method which automatically execute code inside it when we make object of this class\n",
        "  def __init__(self):\n",
        "    \n",
        "    print(\"Constructor got executed\")\n",
        "\n",
        "  def menu(self):\n",
        "    pass"
      ],
      "metadata": {
        "id": "v_QFYW3oU9Z6"
      },
      "execution_count": 5,
      "outputs": []
    },
    {
      "cell_type": "code",
      "source": [
        "sbi = Atm()"
      ],
      "metadata": {
        "colab": {
          "base_uri": "https://localhost:8080/"
        },
        "id": "aThDI92LX7F0",
        "outputId": "6d541b64-ff6f-4143-cdd9-5de90cbcdf64"
      },
      "execution_count": 6,
      "outputs": [
        {
          "output_type": "stream",
          "name": "stdout",
          "text": [
            "Constructor got executed\n"
          ]
        }
      ]
    },
    {
      "cell_type": "code",
      "source": [
        "class Atm:\n",
        "  \n",
        "  def __init__(self):\n",
        "\n",
        "    self.pin = ''\n",
        "    self.balance = 0\n",
        "    self.menu()\n",
        "\n",
        "  def menu(self):\n",
        "    user_input = input('''\n",
        "                  Hello, how would you like to proceed?\n",
        "                  1. Enter 1 to create pin\n",
        "                  2. Enter 2 to deposit\n",
        "                  3. Enter 3 to withdraw\n",
        "                  4. Enter 4 to check balance\n",
        "                  5. Enter 5 to exit\n",
        "    \n",
        "    ''')\n",
        "    if user_input == '1':\n",
        "      self.create_pin()\n",
        "    elif user_input == '2':\n",
        "      self.deposit()\n",
        "    elif user_input == '3':\n",
        "      self.withdraw()\n",
        "    elif user_input == '4':\n",
        "      self.check_balance()\n",
        "    else:\n",
        "      print(\"bye\")\n",
        "\n",
        "  def create_pin(self):\n",
        "    self.pin = input('Enter your pin')\n",
        "    print(\"PIN  set successfully\")\n",
        "\n",
        "  def deposit(self):\n",
        "    temp = input(\"Enter your pin\")\n",
        "    if temp == self.pin:\n",
        "      amount = int(input(\"Enter the amount\"))\n",
        "      self.balance = self.balance + amount\n",
        "      print(\"Deposit successful\")\n",
        "    else:\n",
        "      print(\"Invalid PIN\")\n",
        "\n",
        "  def withdraw(self):\n",
        "    temp = input(\"Enter your pin\")\n",
        "    if temp == self.pin:\n",
        "      amount = int(input(\"Enter the amount\"))\n",
        "      if amount < self.balance:\n",
        "        self.balance = self.balance - amount\n",
        "        print(\"Operation successful\")\n",
        "      else:\n",
        "        print(\"Insufficient Funds\")\n",
        "    else:\n",
        "      print(\"Invalid PIN\")  \n",
        "  \n",
        "  def check_balance(self):\n",
        "    temp = input(\"Enter your pin\")\n",
        "    if temp == self.pin:\n",
        "      print(self.balance)\n",
        "    else:\n",
        "      print(\"Invalid pin\")   "
      ],
      "metadata": {
        "id": "wDCwAWQyX-Od"
      },
      "execution_count": 15,
      "outputs": []
    },
    {
      "cell_type": "code",
      "source": [
        "sbi = Atm()"
      ],
      "metadata": {
        "colab": {
          "base_uri": "https://localhost:8080/"
        },
        "id": "9gnrV8LEZNCS",
        "outputId": "4b8e179c-d208-42c3-cd03-24062d788eb9"
      },
      "execution_count": 16,
      "outputs": [
        {
          "output_type": "stream",
          "name": "stdout",
          "text": [
            "\n",
            "                  Hello, how would you like to proceed?\n",
            "                  1. Enter 1 to create pin\n",
            "                  2. Enter 2 to deposit\n",
            "                  3. Enter 3 to withdraw\n",
            "                  4. Enter 4 to check balance\n",
            "                  5. Enter 5 to exit\n",
            "    \n",
            "    1\n",
            "Enter your pin1234\n",
            "PIN  set successfully\n"
          ]
        }
      ]
    },
    {
      "cell_type": "code",
      "source": [
        "sbi.deposit()"
      ],
      "metadata": {
        "colab": {
          "base_uri": "https://localhost:8080/"
        },
        "id": "-r1PWInLZS_2",
        "outputId": "691ee3f3-7b97-444e-9938-24c0d4667632"
      },
      "execution_count": 17,
      "outputs": [
        {
          "output_type": "stream",
          "name": "stdout",
          "text": [
            "Enter your pin1234\n",
            "Enter the amount90000\n",
            "Deposit successful\n"
          ]
        }
      ]
    },
    {
      "cell_type": "code",
      "source": [
        "sbi.check_balance()"
      ],
      "metadata": {
        "colab": {
          "base_uri": "https://localhost:8080/"
        },
        "id": "cz6aqpLfcCW5",
        "outputId": "fc9a90fc-4bf7-4ed1-cf4f-ceb27b9ecc79"
      },
      "execution_count": 18,
      "outputs": [
        {
          "output_type": "stream",
          "name": "stdout",
          "text": [
            "Enter your pin1234\n",
            "90000\n"
          ]
        }
      ]
    },
    {
      "cell_type": "code",
      "source": [
        "sbi.check_balance()"
      ],
      "metadata": {
        "colab": {
          "base_uri": "https://localhost:8080/"
        },
        "id": "CiLOx8ymcKRQ",
        "outputId": "901da607-ab03-4451-a223-1db2936e69d0"
      },
      "execution_count": 13,
      "outputs": [
        {
          "output_type": "stream",
          "name": "stdout",
          "text": [
            "Enter your pin9027\n",
            "50000\n"
          ]
        }
      ]
    },
    {
      "cell_type": "code",
      "source": [
        "sbi.withdraw()"
      ],
      "metadata": {
        "colab": {
          "base_uri": "https://localhost:8080/"
        },
        "id": "tf29qKHBcPZ-",
        "outputId": "e6656894-e721-49a4-8003-31648e59214f"
      },
      "execution_count": 19,
      "outputs": [
        {
          "output_type": "stream",
          "name": "stdout",
          "text": [
            "Enter your pin1234\n",
            "Enter the amount89000\n",
            "Operation successful\n"
          ]
        }
      ]
    },
    {
      "cell_type": "code",
      "source": [
        "sbi.check_balance()"
      ],
      "metadata": {
        "colab": {
          "base_uri": "https://localhost:8080/"
        },
        "id": "9ZATRQJecUGf",
        "outputId": "711e4cfe-6c35-4f61-b72c-926d8dc44efd"
      },
      "execution_count": 20,
      "outputs": [
        {
          "output_type": "stream",
          "name": "stdout",
          "text": [
            "Enter your pin1234\n",
            "1000\n"
          ]
        }
      ]
    },
    {
      "cell_type": "code",
      "source": [
        "hdfc = Atm()"
      ],
      "metadata": {
        "colab": {
          "base_uri": "https://localhost:8080/"
        },
        "id": "tjKr2v-CctSQ",
        "outputId": "35ad1396-820d-4345-89d7-eee9d85fe4a4"
      },
      "execution_count": 21,
      "outputs": [
        {
          "output_type": "stream",
          "name": "stdout",
          "text": [
            "\n",
            "                  Hello, how would you like to proceed?\n",
            "                  1. Enter 1 to create pin\n",
            "                  2. Enter 2 to deposit\n",
            "                  3. Enter 3 to withdraw\n",
            "                  4. Enter 4 to check balance\n",
            "                  5. Enter 5 to exit\n",
            "    \n",
            "    1\n",
            "Enter your pin2345\n",
            "PIN  set successfully\n"
          ]
        }
      ]
    },
    {
      "cell_type": "code",
      "source": [
        "hdfc.deposit()"
      ],
      "metadata": {
        "colab": {
          "base_uri": "https://localhost:8080/"
        },
        "id": "zMhY7N0wg0Qn",
        "outputId": "5262f0fa-55a8-4c26-fad1-3d608bd7e753"
      },
      "execution_count": 22,
      "outputs": [
        {
          "output_type": "stream",
          "name": "stdout",
          "text": [
            "Enter your pin2345\n",
            "Enter the amount50000\n",
            "Deposit successful\n"
          ]
        }
      ]
    },
    {
      "cell_type": "code",
      "source": [
        "hdfc.check_balance()"
      ],
      "metadata": {
        "colab": {
          "base_uri": "https://localhost:8080/"
        },
        "id": "7cZYwR5Dg6gX",
        "outputId": "d575b44e-f0e2-4e33-8731-e5b043a47346"
      },
      "execution_count": 23,
      "outputs": [
        {
          "output_type": "stream",
          "name": "stdout",
          "text": [
            "Enter your pin2345\n",
            "50000\n"
          ]
        }
      ]
    },
    {
      "cell_type": "markdown",
      "source": [
        "### Magic or Dunder Methods:\n",
        "\n",
        "- Magic methods in Python are the special methods that start and end with the double underscores. They are also called dunder methods.\n",
        "\n",
        "- A Magic methods are not meant to be invoked directly by you, but the invocation happens internally from the class on a certain action.\n",
        "\n",
        "- https://www.tutorialsteacher.com/python/magic-methods-in-python\n",
        "\n",
        "\n",
        "- Constructor is a special/magic/dunder method which execute code inside it automatically as we create object of that class or start that application. Programmer basically put that code inside constructor which he want to execute directly without relying over user to execute that for example internet connectivity when we open any app, database connectivity, gprs connectivity and many more thing."
      ],
      "metadata": {
        "id": "JC1vJumkhxRO"
      }
    },
    {
      "cell_type": "markdown",
      "source": [
        "# self: What is self"
      ],
      "metadata": {
        "id": "EBgRLMBljVkP"
      }
    },
    {
      "cell_type": "code",
      "source": [
        "class Atm():\n",
        "\n",
        "  def __init__(self):\n",
        "    self.pin = ''\n",
        "    self.balance = 0\n",
        "\n",
        "    print(f\"id of self: {id(self)}\")\n",
        "\n",
        "  def menu(self):\n",
        "    pass"
      ],
      "metadata": {
        "id": "-8D39U62hDeq"
      },
      "execution_count": 26,
      "outputs": []
    },
    {
      "cell_type": "code",
      "source": [
        "sbi = Atm()"
      ],
      "metadata": {
        "colab": {
          "base_uri": "https://localhost:8080/"
        },
        "id": "_Exs-ZNDkAFZ",
        "outputId": "c2c9119d-a89c-4a61-b790-30718a83397b"
      },
      "execution_count": 27,
      "outputs": [
        {
          "output_type": "stream",
          "name": "stdout",
          "text": [
            "id of self: 140041306292560\n"
          ]
        }
      ]
    },
    {
      "cell_type": "code",
      "source": [
        "f\"id of sbi: {id(sbi)}\""
      ],
      "metadata": {
        "colab": {
          "base_uri": "https://localhost:8080/",
          "height": 35
        },
        "id": "EQQaJPqRkC92",
        "outputId": "ffccb38a-e116-44cd-cef5-18dd81838567"
      },
      "execution_count": 29,
      "outputs": [
        {
          "output_type": "execute_result",
          "data": {
            "text/plain": [
              "'id of sbi: 140041306292560'"
            ],
            "application/vnd.google.colaboratory.intrinsic+json": {
              "type": "string"
            }
          },
          "metadata": {},
          "execution_count": 29
        }
      ]
    },
    {
      "cell_type": "markdown",
      "source": [
        "- SBI hi self hai\n",
        "\n",
        "- The object which you are using currently is self\n",
        "\n",
        "- Why Self:\n",
        " - In obejct oriented programming we have data and functions, and only class object can access those data and functions.\n",
        "\n",
        " - class one method can not access another method of same class or data of that class but in many scenario we need to access one method of class by another method and for that we need object, so we can get object through self. self is current object.\n",
        "\n",
        " - When you call any method of class using object, we are giving one default input to that method and that is object itself, which is received by self.\n"
      ],
      "metadata": {
        "id": "cA6uAMntkVjX"
      }
    },
    {
      "cell_type": "code",
      "source": [
        ""
      ],
      "metadata": {
        "id": "0cTY2qL4kOFa"
      },
      "execution_count": null,
      "outputs": []
    }
  ]
}